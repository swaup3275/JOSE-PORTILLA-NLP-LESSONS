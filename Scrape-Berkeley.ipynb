{
 "cells": [
  {
   "cell_type": "code",
   "execution_count": 1,
   "metadata": {},
   "outputs": [],
   "source": [
    "import requests\n",
    "from bs4 import BeautifulSoup\n",
    "import os"
   ]
  },
  {
   "cell_type": "code",
   "execution_count": 2,
   "metadata": {},
   "outputs": [],
   "source": [
    "# Assign variables to Variables¶\n",
    "# These will be used later in the code. In the future, we may want to import these variables from a .yaml or .json file. Configurations should be imported or extracted from a parsable, human-friendly config file. When setting up complex systems, it's nice to have configuration files thoughtfully organized.\n",
    "\n",
    "# html_target refers to First html tag you want to scrape data from.\n",
    "\n",
    "# tag refers to the string information you want to grab from a tag in that html_target\n",
    "\n",
    "# f_ext is the filename extension you want to search for (scraping pdf files)\n",
    "\n",
    "# dir_name is the name of the path you want to store the files in\n",
    "\n",
    "# url is the base url you want to scrape."
   ]
  },
  {
   "cell_type": "code",
   "execution_count": 3,
   "metadata": {},
   "outputs": [],
   "source": [
    "html_target = \"a\"\n",
    "tag = \"href\"\n",
    "f_ext = \".pdf\"\n",
    "dir_name = \"Ghodsi_Ali\"\n",
    "url = 'https://www.cs.berkeley.edu/~alig/papers'"
   ]
  },
  {
   "cell_type": "code",
   "execution_count": 4,
   "metadata": {},
   "outputs": [],
   "source": [
    "#  Request and Collect\n",
    "# We instantiate a request object and call the .get method on it. r is our HTTP 1.1 response.\n",
    "\n",
    "# From here we have:\n",
    "\n",
    "# status\n",
    "# encoding\n",
    "# text of the body --- should type check this\n",
    "# content of the body --- type binary\n",
    "# Once we have our html we are ready to scrape the site for useful href tags`"
   ]
  },
  {
   "cell_type": "code",
   "execution_count": 5,
   "metadata": {},
   "outputs": [],
   "source": [
    "r = requests.get(url)\n",
    "\n",
    "status = r.status_code\n",
    "encoding = r.encoding\n",
    "html_doc = r.text\n",
    "\n",
    "soup = BeautifulSoup(html_doc, 'html.parser')\n",
    "anchor = soup(html_target)"
   ]
  },
  {
   "cell_type": "code",
   "execution_count": 6,
   "metadata": {},
   "outputs": [],
   "source": [
    "def make_dir(directory):\n",
    "    \"\"\"\n",
    "    return: None\n",
    "    Makes directory if does not already exist\n",
    "    \"\"\"\n",
    "    if not os.path.exists(directory):\n",
    "        os.makedirs(directory)"
   ]
  },
  {
   "cell_type": "code",
   "execution_count": 7,
   "metadata": {},
   "outputs": [],
   "source": [
    "# download_url(url, endpoint)¶\n",
    "# This function makes a new request each time it's called. \n",
    "# It writes the binary content to file. This could be two functions. One to get the new request object/content.\n",
    "# And the other to actually\n",
    "# write that content to file. This modular design can be implemented by the reader if the reader is so inclined."
   ]
  },
  {
   "cell_type": "code",
   "execution_count": 11,
   "metadata": {},
   "outputs": [
    {
     "ename": "SyntaxError",
     "evalue": "invalid syntax (<ipython-input-11-2cbab88e7ac2>, line 13)",
     "output_type": "error",
     "traceback": [
      "\u001b[0;36m  File \u001b[0;32m\"<ipython-input-11-2cbab88e7ac2>\"\u001b[0;36m, line \u001b[0;32m13\u001b[0m\n\u001b[0;31m    print \"\"\"Downloading From: {url}\\nWriting to: {/home/swarup/Desktop}\"\"\".format(\u001b[0m\n\u001b[0m                                                                          ^\u001b[0m\n\u001b[0;31mSyntaxError\u001b[0m\u001b[0;31m:\u001b[0m invalid syntax\n"
     ]
    }
   ],
   "source": [
    "def download_url(url, endpoint):\n",
    "    \"\"\"\n",
    "    return: None\n",
    "    downloads file, requires url in global or class scope.\n",
    "    \"\"\"\n",
    "    url_addr = \"{url}/{endpoint}\".format(url=url, endpoint=endpoint)\n",
    "    file_path = \"{directory}/{endpoint}\".format(directory=dir_name, endpoint=endpoint)\n",
    "    \n",
    "    r = requests.get(url_addr)\n",
    "    content_file = r.content\n",
    "    \n",
    "    with open(file_path, 'wb') as f:\n",
    "        print \"\"\"Downloading From: {url}\\nWriting to: {/home/swarup/Desktop}\"\"\".format(\n",
    "                                                url=url_addr, \n",
    "                                                file_path=file_path\n",
    "                                                                    )\n",
    "        f.write(content_file)"
   ]
  },
  {
   "cell_type": "code",
   "execution_count": 12,
   "metadata": {},
   "outputs": [
    {
     "ename": "SyntaxError",
     "evalue": "invalid syntax (<ipython-input-12-1d15416c0fbc>, line 1)",
     "output_type": "error",
     "traceback": [
      "\u001b[0;36m  File \u001b[0;32m\"<ipython-input-12-1d15416c0fbc>\"\u001b[0;36m, line \u001b[0;32m1\u001b[0m\n\u001b[0;31m    print \"\"\"Status: {status}\\nEncoding: {encoding}\"\"\".format(status=status,\u001b[0m\n\u001b[0m                                                     ^\u001b[0m\n\u001b[0;31mSyntaxError\u001b[0m\u001b[0;31m:\u001b[0m invalid syntax\n"
     ]
    }
   ],
   "source": [
    "print \"\"\"Status: {status}\\nEncoding: {encoding}\"\"\".format(status=status, \n",
    "                                                    encoding=encoding)\n",
    "print \"Begin downloading\"\n",
    "\n",
    "make_dir(dir_name)\n",
    "for a in anchor:\n",
    "    endpoint = a[tag]\n",
    "    if endpoint[-4:] == f_ext:\n",
    "            download_url(url, endpoint)\n",
    "            print \"Finished Download -- {tag}\".format(tag=endpoint)\n",
    "    #print \"miss: {tag}\".format(tag=endpoint)\n",
    "    \n",
    "print \"Finished Downloading\""
   ]
  },
  {
   "cell_type": "code",
   "execution_count": null,
   "metadata": {},
   "outputs": [],
   "source": []
  }
 ],
 "metadata": {
  "kernelspec": {
   "display_name": "Python 3",
   "language": "python",
   "name": "python3"
  },
  "language_info": {
   "codemirror_mode": {
    "name": "ipython",
    "version": 3
   },
   "file_extension": ".py",
   "mimetype": "text/x-python",
   "name": "python",
   "nbconvert_exporter": "python",
   "pygments_lexer": "ipython3",
   "version": "3.7.3"
  }
 },
 "nbformat": 4,
 "nbformat_minor": 2
}
